{
 "cells": [
  {
   "cell_type": "code",
   "execution_count": null,
   "metadata": {
    "application/vnd.databricks.v1+cell": {
     "cellMetadata": {
      "byteLimit": 2048000,
      "rowLimit": 10000
     },
     "inputWidgets": {},
     "nuid": "5b775f62-9ce3-4b6e-bf67-2cd5a06bc90a",
     "showTitle": false,
     "title": ""
    }
   },
   "outputs": [],
   "source": [
    "# 1) Gets the username and password of an account with full access(read/write) to the SharePoint site. This username and password is saved in Azure key vault.\n",
    "\n",
    "sharepoint_usr = dbutils.secrets.get(scope = 'Key-Vault-Secret', key = 'SharePoint-Acc')\n",
    "sharepoint_pwd = dbutils.secrets.get(scope = 'Key-Vault-Secret', key = 'SharePoint-PWD')"
   ]
  },
  {
   "cell_type": "code",
   "execution_count": null,
   "metadata": {
    "application/vnd.databricks.v1+cell": {
     "cellMetadata": {
      "byteLimit": 2048000,
      "rowLimit": 10000
     },
     "inputWidgets": {},
     "nuid": "a14a61ee-420c-4c1c-bfd9-ff9b22a33c98",
     "showTitle": false,
     "title": ""
    }
   },
   "outputs": [],
   "source": [
    "# 2) Connects to the SharePoint site, read the csv file and get the csv file into a pandas dataframe\n",
    "\n",
    "# Install sharepy library seperately to the cluster used\n",
    "# json and pandas libraries are by default available in the cluster, so no need to install seperately\n",
    "import sharepy\n",
    "import json\n",
    "import pandas as pd\n",
    "\n",
    "# Authenticate\n",
    "s = sharepy.connect('<enter_sharepoint_site_url>',username=sharepoint_usr, password=sharepoint_pwd)\n",
    "\n",
    "file_url = '<enter_csv_filepath_in_sharepoint_site>'\n",
    "\n",
    "filename = 'Products.csv'\n",
    "\n",
    "r = s.getfile(file_url, filename=filename)\n",
    "df = pd.read_csv(filename)\n",
    "df = spark.createDataFrame(df.astype(str))"
   ]
  },
  {
   "cell_type": "code",
   "execution_count": null,
   "metadata": {
    "application/vnd.databricks.v1+cell": {
     "cellMetadata": {
      "byteLimit": 2048000,
      "rowLimit": 10000
     },
     "inputWidgets": {},
     "nuid": "4d859f9c-7071-4b77-9011-3a765cd8c057",
     "showTitle": false,
     "title": ""
    }
   },
   "outputs": [
    {
     "data": {
      "text/html": [
       "<style scoped>\n",
       "  .table-result-container {\n",
       "    max-height: 300px;\n",
       "    overflow: auto;\n",
       "  }\n",
       "  table, th, td {\n",
       "    border: 1px solid black;\n",
       "    border-collapse: collapse;\n",
       "  }\n",
       "  th, td {\n",
       "    padding: 5px;\n",
       "  }\n",
       "  th {\n",
       "    text-align: left;\n",
       "  }\n",
       "</style><div class='table-result-container'><table class='table-result'><thead style='background-color: white'><tr><th>PRODUCTLINE</th><th>PRODUCTCODE</th></tr></thead><tbody><tr><td>Motorcycles</td><td>S10_1678</td></tr><tr><td>Classic Cars</td><td>S10_1949</td></tr><tr><td>Motorcycles</td><td>S10_2016</td></tr><tr><td>Motorcycles</td><td>S10_4698</td></tr><tr><td>Classic Cars</td><td>S10_4757</td></tr><tr><td>Classic Cars</td><td>S10_4962</td></tr><tr><td>Classic Cars</td><td>S12_1099</td></tr><tr><td>Classic Cars</td><td>S12_1108</td></tr><tr><td>Trucks and Buses</td><td>S12_1666</td></tr><tr><td>Motorcycles</td><td>S12_2823</td></tr><tr><td>Classic Cars</td><td>S12_3148</td></tr><tr><td>Classic Cars</td><td>S12_3380</td></tr><tr><td>Classic Cars</td><td>S12_3891</td></tr><tr><td>Classic Cars</td><td>S12_3990</td></tr><tr><td>Trucks and Buses</td><td>S12_4473</td></tr><tr><td>Classic Cars</td><td>S12_4675</td></tr><tr><td>Trucks and Buses</td><td>S18_1097</td></tr><tr><td>Classic Cars</td><td>S18_1129</td></tr><tr><td>Vintage Cars</td><td>S18_1342</td></tr><tr><td>Vintage Cars</td><td>S18_1367</td></tr><tr><td>Classic Cars</td><td>S18_1589</td></tr><tr><td>Planes</td><td>S18_1662</td></tr><tr><td>Vintage Cars</td><td>S18_1749</td></tr><tr><td>Classic Cars</td><td>S18_1889</td></tr><tr><td>Classic Cars</td><td>S18_1984</td></tr><tr><td>Classic Cars</td><td>S18_2238</td></tr><tr><td>Vintage Cars</td><td>S18_2248</td></tr><tr><td>Trucks and Buses</td><td>S18_2319</td></tr><tr><td>Vintage Cars</td><td>S18_2325</td></tr><tr><td>Trucks and Buses</td><td>S18_2432</td></tr><tr><td>Planes</td><td>S18_2581</td></tr><tr><td>Motorcycles</td><td>S18_2625</td></tr><tr><td>Vintage Cars</td><td>S18_2795</td></tr><tr><td>Classic Cars</td><td>S18_2870</td></tr><tr><td>Vintage Cars</td><td>S18_2949</td></tr><tr><td>Vintage Cars</td><td>S18_2957</td></tr><tr><td>Ships</td><td>S18_3029</td></tr><tr><td>Vintage Cars</td><td>S18_3136</td></tr><tr><td>Vintage Cars</td><td>S18_3140</td></tr><tr><td>Classic Cars</td><td>S18_3232</td></tr><tr><td>Trains</td><td>S18_3259</td></tr><tr><td>Classic Cars</td><td>S18_3278</td></tr><tr><td>Vintage Cars</td><td>S18_3320</td></tr><tr><td>Classic Cars</td><td>S18_3482</td></tr><tr><td>Classic Cars</td><td>S18_3685</td></tr><tr><td>Motorcycles</td><td>S18_3782</td></tr><tr><td>Vintage Cars</td><td>S18_3856</td></tr><tr><td>Classic Cars</td><td>S18_4027</td></tr><tr><td>Vintage Cars</td><td>S18_4409</td></tr><tr><td>Vintage Cars</td><td>S18_4522</td></tr><tr><td>Trucks and Buses</td><td>S18_4600</td></tr><tr><td>Vintage Cars</td><td>S18_4668</td></tr><tr><td>Classic Cars</td><td>S18_4721</td></tr><tr><td>Classic Cars</td><td>S18_4933</td></tr><tr><td>Classic Cars</td><td>S24_1046</td></tr><tr><td>Classic Cars</td><td>S24_1444</td></tr><tr><td>Motorcycles</td><td>S24_1578</td></tr><tr><td>Classic Cars</td><td>S24_1628</td></tr><tr><td>Planes</td><td>S24_1785</td></tr><tr><td>Vintage Cars</td><td>S24_1937</td></tr><tr><td>Motorcycles</td><td>S24_2000</td></tr><tr><td>Ships</td><td>S24_2011</td></tr><tr><td>Vintage Cars</td><td>S24_2022</td></tr><tr><td>Trucks and Buses</td><td>S24_2300</td></tr><tr><td>Motorcycles</td><td>S24_2360</td></tr><tr><td>Classic Cars</td><td>S24_2766</td></tr><tr><td>Classic Cars</td><td>S24_2840</td></tr><tr><td>Planes</td><td>S24_2841</td></tr><tr><td>Classic Cars</td><td>S24_2887</td></tr><tr><td>Classic Cars</td><td>S24_2972</td></tr><tr><td>Vintage Cars</td><td>S24_3151</td></tr><tr><td>Classic Cars</td><td>S24_3191</td></tr><tr><td>Classic Cars</td><td>S24_3371</td></tr><tr><td>Vintage Cars</td><td>S24_3420</td></tr><tr><td>Classic Cars</td><td>S24_3432</td></tr><tr><td>Vintage Cars</td><td>S24_3816</td></tr><tr><td>Classic Cars</td><td>S24_3856</td></tr><tr><td>Planes</td><td>S24_3949</td></tr><tr><td>Vintage Cars</td><td>S24_3969</td></tr><tr><td>Classic Cars</td><td>S24_4048</td></tr><tr><td>Vintage Cars</td><td>S24_4258</td></tr><tr><td>Planes</td><td>S24_4278</td></tr><tr><td>Classic Cars</td><td>S24_4620</td></tr><tr><td>Trucks and Buses</td><td>S32_1268</td></tr><tr><td>Motorcycles</td><td>S32_1374</td></tr><tr><td>Motorcycles</td><td>S32_2206</td></tr><tr><td>Trucks and Buses</td><td>S32_2509</td></tr><tr><td>Trains</td><td>S32_3207</td></tr><tr><td>Trucks and Buses</td><td>S32_3522</td></tr><tr><td>Vintage Cars</td><td>S32_4289</td></tr><tr><td>Motorcycles</td><td>S32_4485</td></tr><tr><td>Vintage Cars</td><td>S50_1341</td></tr><tr><td>Trucks and Buses</td><td>S50_1392</td></tr><tr><td>Trains</td><td>S50_1514</td></tr><tr><td>Motorcycles</td><td>S50_4713</td></tr><tr><td>Ships</td><td>S700_1138</td></tr><tr><td>Planes</td><td>S700_1691</td></tr><tr><td>Ships</td><td>S700_1938</td></tr><tr><td>Ships</td><td>S700_2047</td></tr><tr><td>Planes</td><td>S700_2466</td></tr><tr><td>Ships</td><td>S700_2610</td></tr><tr><td>Classic Cars</td><td>S700_2824</td></tr><tr><td>Planes</td><td>S700_2834</td></tr><tr><td>Planes</td><td>S700_3167</td></tr><tr><td>Ships</td><td>S700_3505</td></tr><tr><td>Ships</td><td>S700_3962</td></tr><tr><td>Planes</td><td>S700_4002</td></tr><tr><td>Planes</td><td>S72_1253</td></tr><tr><td>Ships</td><td>S72_3212</td></tr></tbody></table></div>"
      ]
     },
     "metadata": {
      "application/vnd.databricks.v1+output": {
       "addedWidgets": {},
       "aggData": [],
       "aggError": "",
       "aggOverflow": false,
       "aggSchema": [],
       "aggSeriesLimitReached": false,
       "aggType": "",
       "arguments": {},
       "columnCustomDisplayInfos": {},
       "data": [
        [
         "Motorcycles",
         "S10_1678"
        ],
        [
         "Classic Cars",
         "S10_1949"
        ],
        [
         "Motorcycles",
         "S10_2016"
        ],
        [
         "Motorcycles",
         "S10_4698"
        ],
        [
         "Classic Cars",
         "S10_4757"
        ],
        [
         "Classic Cars",
         "S10_4962"
        ],
        [
         "Classic Cars",
         "S12_1099"
        ],
        [
         "Classic Cars",
         "S12_1108"
        ],
        [
         "Trucks and Buses",
         "S12_1666"
        ],
        [
         "Motorcycles",
         "S12_2823"
        ],
        [
         "Classic Cars",
         "S12_3148"
        ],
        [
         "Classic Cars",
         "S12_3380"
        ],
        [
         "Classic Cars",
         "S12_3891"
        ],
        [
         "Classic Cars",
         "S12_3990"
        ],
        [
         "Trucks and Buses",
         "S12_4473"
        ],
        [
         "Classic Cars",
         "S12_4675"
        ],
        [
         "Trucks and Buses",
         "S18_1097"
        ],
        [
         "Classic Cars",
         "S18_1129"
        ],
        [
         "Vintage Cars",
         "S18_1342"
        ],
        [
         "Vintage Cars",
         "S18_1367"
        ],
        [
         "Classic Cars",
         "S18_1589"
        ],
        [
         "Planes",
         "S18_1662"
        ],
        [
         "Vintage Cars",
         "S18_1749"
        ],
        [
         "Classic Cars",
         "S18_1889"
        ],
        [
         "Classic Cars",
         "S18_1984"
        ],
        [
         "Classic Cars",
         "S18_2238"
        ],
        [
         "Vintage Cars",
         "S18_2248"
        ],
        [
         "Trucks and Buses",
         "S18_2319"
        ],
        [
         "Vintage Cars",
         "S18_2325"
        ],
        [
         "Trucks and Buses",
         "S18_2432"
        ],
        [
         "Planes",
         "S18_2581"
        ],
        [
         "Motorcycles",
         "S18_2625"
        ],
        [
         "Vintage Cars",
         "S18_2795"
        ],
        [
         "Classic Cars",
         "S18_2870"
        ],
        [
         "Vintage Cars",
         "S18_2949"
        ],
        [
         "Vintage Cars",
         "S18_2957"
        ],
        [
         "Ships",
         "S18_3029"
        ],
        [
         "Vintage Cars",
         "S18_3136"
        ],
        [
         "Vintage Cars",
         "S18_3140"
        ],
        [
         "Classic Cars",
         "S18_3232"
        ],
        [
         "Trains",
         "S18_3259"
        ],
        [
         "Classic Cars",
         "S18_3278"
        ],
        [
         "Vintage Cars",
         "S18_3320"
        ],
        [
         "Classic Cars",
         "S18_3482"
        ],
        [
         "Classic Cars",
         "S18_3685"
        ],
        [
         "Motorcycles",
         "S18_3782"
        ],
        [
         "Vintage Cars",
         "S18_3856"
        ],
        [
         "Classic Cars",
         "S18_4027"
        ],
        [
         "Vintage Cars",
         "S18_4409"
        ],
        [
         "Vintage Cars",
         "S18_4522"
        ],
        [
         "Trucks and Buses",
         "S18_4600"
        ],
        [
         "Vintage Cars",
         "S18_4668"
        ],
        [
         "Classic Cars",
         "S18_4721"
        ],
        [
         "Classic Cars",
         "S18_4933"
        ],
        [
         "Classic Cars",
         "S24_1046"
        ],
        [
         "Classic Cars",
         "S24_1444"
        ],
        [
         "Motorcycles",
         "S24_1578"
        ],
        [
         "Classic Cars",
         "S24_1628"
        ],
        [
         "Planes",
         "S24_1785"
        ],
        [
         "Vintage Cars",
         "S24_1937"
        ],
        [
         "Motorcycles",
         "S24_2000"
        ],
        [
         "Ships",
         "S24_2011"
        ],
        [
         "Vintage Cars",
         "S24_2022"
        ],
        [
         "Trucks and Buses",
         "S24_2300"
        ],
        [
         "Motorcycles",
         "S24_2360"
        ],
        [
         "Classic Cars",
         "S24_2766"
        ],
        [
         "Classic Cars",
         "S24_2840"
        ],
        [
         "Planes",
         "S24_2841"
        ],
        [
         "Classic Cars",
         "S24_2887"
        ],
        [
         "Classic Cars",
         "S24_2972"
        ],
        [
         "Vintage Cars",
         "S24_3151"
        ],
        [
         "Classic Cars",
         "S24_3191"
        ],
        [
         "Classic Cars",
         "S24_3371"
        ],
        [
         "Vintage Cars",
         "S24_3420"
        ],
        [
         "Classic Cars",
         "S24_3432"
        ],
        [
         "Vintage Cars",
         "S24_3816"
        ],
        [
         "Classic Cars",
         "S24_3856"
        ],
        [
         "Planes",
         "S24_3949"
        ],
        [
         "Vintage Cars",
         "S24_3969"
        ],
        [
         "Classic Cars",
         "S24_4048"
        ],
        [
         "Vintage Cars",
         "S24_4258"
        ],
        [
         "Planes",
         "S24_4278"
        ],
        [
         "Classic Cars",
         "S24_4620"
        ],
        [
         "Trucks and Buses",
         "S32_1268"
        ],
        [
         "Motorcycles",
         "S32_1374"
        ],
        [
         "Motorcycles",
         "S32_2206"
        ],
        [
         "Trucks and Buses",
         "S32_2509"
        ],
        [
         "Trains",
         "S32_3207"
        ],
        [
         "Trucks and Buses",
         "S32_3522"
        ],
        [
         "Vintage Cars",
         "S32_4289"
        ],
        [
         "Motorcycles",
         "S32_4485"
        ],
        [
         "Vintage Cars",
         "S50_1341"
        ],
        [
         "Trucks and Buses",
         "S50_1392"
        ],
        [
         "Trains",
         "S50_1514"
        ],
        [
         "Motorcycles",
         "S50_4713"
        ],
        [
         "Ships",
         "S700_1138"
        ],
        [
         "Planes",
         "S700_1691"
        ],
        [
         "Ships",
         "S700_1938"
        ],
        [
         "Ships",
         "S700_2047"
        ],
        [
         "Planes",
         "S700_2466"
        ],
        [
         "Ships",
         "S700_2610"
        ],
        [
         "Classic Cars",
         "S700_2824"
        ],
        [
         "Planes",
         "S700_2834"
        ],
        [
         "Planes",
         "S700_3167"
        ],
        [
         "Ships",
         "S700_3505"
        ],
        [
         "Ships",
         "S700_3962"
        ],
        [
         "Planes",
         "S700_4002"
        ],
        [
         "Planes",
         "S72_1253"
        ],
        [
         "Ships",
         "S72_3212"
        ]
       ],
       "datasetInfos": [],
       "dbfsResultPath": null,
       "isJsonSchema": true,
       "metadata": {},
       "overflow": false,
       "plotOptions": {
        "customPlotOptions": {},
        "displayType": "table",
        "pivotAggregation": null,
        "pivotColumns": null,
        "xColumns": null,
        "yColumns": null
       },
       "removedWidgets": [],
       "schema": [
        {
         "metadata": "{}",
         "name": "PRODUCTLINE",
         "type": "\"string\""
        },
        {
         "metadata": "{}",
         "name": "PRODUCTCODE",
         "type": "\"string\""
        }
       ],
       "type": "table"
      }
     },
     "output_type": "display_data"
    }
   ],
   "source": [
    "# 3) Prints the contents of the dataframe\n",
    "\n",
    "display(df)"
   ]
  },
  {
   "cell_type": "code",
   "execution_count": null,
   "metadata": {
    "application/vnd.databricks.v1+cell": {
     "cellMetadata": {
      "byteLimit": 2048000,
      "rowLimit": 10000
     },
     "inputWidgets": {},
     "nuid": "5cbd5b72-585d-4a30-913b-857e20105d2a",
     "showTitle": false,
     "title": ""
    }
   },
   "outputs": [
    {
     "name": "stdout",
     "output_type": "stream",
     "text": [
      "\n"
     ]
    }
   ],
   "source": [
    "# 4) Dbutils widget created to get the folder path to save the parquet file in the data lake. A value can be passed as a parameter for this widget.\n",
    "\n",
    "# path -  dimension/product\n",
    "dbutils.widgets.text('path', '')\n",
    "path = dbutils.widgets.get('path')\n",
    "print(path)"
   ]
  },
  {
   "cell_type": "code",
   "execution_count": null,
   "metadata": {
    "application/vnd.databricks.v1+cell": {
     "cellMetadata": {
      "byteLimit": 2048000,
      "rowLimit": 10000
     },
     "inputWidgets": {},
     "nuid": "1817a5d4-fb74-4adc-a879-cb9faedd9626",
     "showTitle": false,
     "title": ""
    }
   },
   "outputs": [],
   "source": [
    "# 5) Writes the dataframe in parquet format to the data lake\n",
    "\n",
    "# Access key used to connect to the data lake\n",
    "# This value is saved in the Azure key vault\n",
    "str_key = dbutils.secrets.get(scope = 'Key-Vault-Secret', key = 'Data-Lake')\n",
    "\n",
    "spark.conf.set(\n",
    "  'fs.azure.account.key.heshtestdwhstorage.dfs.core.windows.net',\n",
    "  str_key\n",
    ")\n",
    "\n",
    "# Data lake folder path where we want to write the parquet file\n",
    "target_folder_path = 'abfss://data-lake@heshtestdwhstorage.dfs.core.windows.net/' + path\n",
    "\n",
    "df.coalesce(1).write.mode('overwrite').option('header','false').parquet(target_folder_path)"
   ]
  }
 ],
 "metadata": {
  "application/vnd.databricks.v1+notebook": {
   "dashboards": [],
   "language": "python",
   "notebookMetadata": {
    "pythonIndentUnit": 4
   },
   "notebookName": "DimProduct",
   "widgets": {
    "path": {
     "currentValue": "",
     "nuid": "c0e07a63-6a26-4425-b099-e53b2a93eab2",
     "widgetInfo": {
      "defaultValue": "",
      "label": null,
      "name": "path",
      "options": {
       "validationRegex": null,
       "widgetType": "text"
      },
      "widgetType": "text"
     }
    }
   }
  },
  "language_info": {
   "name": "python"
  }
 },
 "nbformat": 4,
 "nbformat_minor": 0
}
