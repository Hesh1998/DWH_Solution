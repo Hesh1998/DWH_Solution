{
 "cells": [
  {
   "cell_type": "code",
   "execution_count": null,
   "metadata": {
    "application/vnd.databricks.v1+cell": {
     "cellMetadata": {
      "byteLimit": 2048000,
      "rowLimit": 10000
     },
     "inputWidgets": {},
     "nuid": "5b775f62-9ce3-4b6e-bf67-2cd5a06bc90a",
     "showTitle": false,
     "title": ""
    }
   },
   "outputs": [],
   "source": [
    "# 1) Gets the username and password of an account with full access(read/write) to the SharePoint site. This username and password is saved in Azure key vault.\n",
    "\n",
    "sharepoint_usr = dbutils.secrets.get(scope = 'Key-Vault-Secret', key = 'SharePoint-Acc')\n",
    "sharepoint_pwd = dbutils.secrets.get(scope = 'Key-Vault-Secret', key = 'SharePoint-PWD')"
   ]
  },
  {
   "cell_type": "code",
   "execution_count": null,
   "metadata": {
    "application/vnd.databricks.v1+cell": {
     "cellMetadata": {
      "byteLimit": 2048000,
      "rowLimit": 10000
     },
     "inputWidgets": {},
     "nuid": "a14a61ee-420c-4c1c-bfd9-ff9b22a33c98",
     "showTitle": false,
     "title": ""
    }
   },
   "outputs": [],
   "source": [
    "# 2) Connects to the SharePoint site, read the csv file and get the csv file into a pandas dataframe\n",
    "\n",
    "# Install sharepy library seperately to the cluster used\n",
    "# json and pandas libraries are by default available in the cluster, so no need to install seperately\n",
    "import sharepy\n",
    "import json\n",
    "import pandas as pd\n",
    "\n",
    "# Authenticate\n",
    "s = sharepy.connect('<enter_sharepoint_site_url>',username=sharepoint_usr, password=sharepoint_pwd)\n",
    "\n",
    "file_url = '<enter_csv_filepath_in_sharepoint_site>'\n",
    "\n",
    "filename = 'Customers.csv'\n",
    "\n",
    "r = s.getfile(file_url, filename=filename)\n",
    "df = pd.read_csv(filename)\n",
    "df = spark.createDataFrame(df.astype(str))"
   ]
  },
  {
   "cell_type": "code",
   "execution_count": null,
   "metadata": {
    "application/vnd.databricks.v1+cell": {
     "cellMetadata": {
      "byteLimit": 2048000,
      "rowLimit": 10000
     },
     "inputWidgets": {},
     "nuid": "4d859f9c-7071-4b77-9011-3a765cd8c057",
     "showTitle": false,
     "title": ""
    }
   },
   "outputs": [
    {
     "data": {
      "text/html": [
       "<style scoped>\n",
       "  .table-result-container {\n",
       "    max-height: 300px;\n",
       "    overflow: auto;\n",
       "  }\n",
       "  table, th, td {\n",
       "    border: 1px solid black;\n",
       "    border-collapse: collapse;\n",
       "  }\n",
       "  th, td {\n",
       "    padding: 5px;\n",
       "  }\n",
       "  th {\n",
       "    text-align: left;\n",
       "  }\n",
       "</style><div class='table-result-container'><table class='table-result'><thead style='background-color: white'><tr><th>CUSTOMERNAME</th><th>PHONE</th><th>ADDRESSLINE1</th><th>ADDRESSLINE2</th><th>CITY</th><th>STATE</th><th>POSTALCODE</th><th>COUNTRY</th></tr></thead><tbody><tr><td>Atelier graphique</td><td>40.32.2555</td><td>54, rue Royale</td><td>nan</td><td>Nantes</td><td>nan</td><td>44000</td><td>France</td></tr><tr><td>Mini Caravy</td><td>88.60.1555</td><td>24, place Kluber</td><td>nan</td><td>Strasbourg</td><td>nan</td><td>67000</td><td>France</td></tr><tr><td>Online Diecast Creations Co.</td><td>6035558647</td><td>2304 Long Airport Avenue</td><td>nan</td><td>Nashua</td><td>NH</td><td>62005</td><td>USA</td></tr><tr><td>Signal Gift Stores</td><td>7025551838</td><td>8489 Strong St.</td><td>nan</td><td>Las Vegas</td><td>NV</td><td>83030</td><td>USA</td></tr><tr><td>Vida Sport, Ltd</td><td>0897-034555</td><td>Grenzacherweg 237</td><td>nan</td><td>Gensve</td><td>nan</td><td>1203</td><td>Switzerland</td></tr><tr><td>Toms Spezialitten, Ltd</td><td>0221-5554327</td><td>Mehrheimerstr. 369</td><td>nan</td><td>Koln</td><td>nan</td><td>50739</td><td>Germany</td></tr><tr><td>Marseille Mini Autos</td><td>91.24.4555</td><td>12, rue des Bouchers</td><td>nan</td><td>Marseille</td><td>nan</td><td>13008</td><td>France</td></tr><tr><td>Signal Collectibles Ltd.</td><td>4155554312</td><td>2793 Furth Circle</td><td>nan</td><td>Brisbane</td><td>CA</td><td>94217</td><td>USA</td></tr><tr><td>Australian Gift Network, Co</td><td>61-7-3844-6555</td><td>31 Duncan St. West End</td><td>nan</td><td>South Brisbane</td><td>Queensland</td><td>4101</td><td>Australia</td></tr><tr><td>Mini Wheels Co.</td><td>6505555787</td><td>5557 North Pendale Street</td><td>nan</td><td>San Francisco</td><td>CA</td><td>nan</td><td>USA</td></tr><tr><td>Royale Belge</td><td>(071) 23 67 2555</td><td>Boulevard Tirou, 255</td><td>nan</td><td>Charleroi</td><td>nan</td><td>B-6000</td><td>Belgium</td></tr><tr><td>Iberia Gift Imports, Corp.</td><td>(95) 555 82 82</td><td>C/ Romero, 33</td><td>nan</td><td>Sevilla</td><td>nan</td><td>41101</td><td>Spain</td></tr><tr><td>Diecast Collectables</td><td>6175552555</td><td>6251 Ingle Ln.</td><td>nan</td><td>Boston</td><td>MA</td><td>51003</td><td>USA</td></tr><tr><td>Muscle Machine Inc</td><td>2125557413</td><td>4092 Furth Circle</td><td>Suite 400</td><td>NYC</td><td>NY</td><td>10022</td><td>USA</td></tr><tr><td>Blauer See Auto, Co.</td><td>+49 69 66 90 2555</td><td>Lyonerstr. 34</td><td>nan</td><td>Frankfurt</td><td>nan</td><td>60528</td><td>Germany</td></tr><tr><td>Suominen Souveniers</td><td>+358 9 8045 555</td><td>Software Engineering Center, SEC Oy</td><td>nan</td><td>Espoo</td><td>nan</td><td>FIN-02271</td><td>Finland</td></tr><tr><td>Anna's Decorations, Ltd</td><td>02 9936 8555</td><td>201 Miller Street</td><td>Level 15</td><td>North Sydney</td><td>NSW</td><td>2060</td><td>Australia</td></tr><tr><td>Daedalus Designs Imports</td><td>20.16.1555</td><td>184, chausse de Tournai</td><td>nan</td><td>Lille</td><td>nan</td><td>59000</td><td>France</td></tr><tr><td>Auto Canal Petit</td><td>(1) 47.55.6555</td><td>25, rue Lauriston</td><td>nan</td><td>Paris</td><td>nan</td><td>75016</td><td>France</td></tr><tr><td>Microscale Inc.</td><td>2125551957</td><td>5290 North Pendale Street</td><td>Suite 200</td><td>NYC</td><td>NY</td><td>10022</td><td>USA</td></tr><tr><td>Motor Mint Distributors Inc.</td><td>2155559857</td><td>11328 Douglas Av.</td><td>nan</td><td>Philadelphia</td><td>PA</td><td>71270</td><td>USA</td></tr><tr><td>Lyon Souveniers</td><td>+33 1 46 62 7555</td><td>27 rue du Colonel Pierre Avia</td><td>nan</td><td>Paris</td><td>nan</td><td>75508</td><td>France</td></tr><tr><td>UK Collectables, Ltd.</td><td>(171) 555-2282</td><td>Berkeley Gardens 12  Brewery</td><td>nan</td><td>Liverpool</td><td>nan</td><td>WX1 6LT</td><td>UK</td></tr><tr><td>Volvo Model Replicas, Co</td><td>0921-12 3555</td><td>Berguvsv�gen  8</td><td>nan</td><td>Lule</td><td>nan</td><td>S-958 22</td><td>Sweden</td></tr><tr><td>Heintze Collectables</td><td>86 21 3555</td><td>Smagsloget 45</td><td>nan</td><td>Aaarhus</td><td>nan</td><td>8200</td><td>Denmark</td></tr><tr><td>Corporate Gift Ideas Co.</td><td>6505551386</td><td>7734 Strong St.</td><td>nan</td><td>San Francisco</td><td>CA</td><td>nan</td><td>USA</td></tr><tr><td>Boards & Toys Co.</td><td>3105552373</td><td>4097 Douglas Av.</td><td>nan</td><td>Glendale</td><td>CA</td><td>92561</td><td>USA</td></tr><tr><td>Baane Mini Imports</td><td>07-98 9555</td><td>Erling Skakkes gate 78</td><td>nan</td><td>Stavern</td><td>nan</td><td>4110</td><td>Norway</td></tr><tr><td>Mini Auto Werke</td><td>7675-3555</td><td>Kirchgasse 6</td><td>nan</td><td>Graz</td><td>nan</td><td>8010</td><td>Austria</td></tr><tr><td>Handji Gifts& Co</td><td>+65 224 1555</td><td>Village Close - 106 Linden Road Sandown</td><td>2nd Floor</td><td>Singapore</td><td>nan</td><td>69045</td><td>Singapore</td></tr><tr><td>Super Scale Inc.</td><td>2035559545</td><td>567 North Pendale Street</td><td>nan</td><td>New Haven</td><td>CT</td><td>97823</td><td>USA</td></tr><tr><td>Auto Assoc. & Cie.</td><td>30.59.8555</td><td>67, avenue de l'Europe</td><td>nan</td><td>Versailles</td><td>nan</td><td>78000</td><td>France</td></tr><tr><td>Canadian Gift Exchange Network</td><td>(604) 555-3392</td><td>1900 Oak St.</td><td>nan</td><td>Vancouver</td><td>BC</td><td>V3F 2K1</td><td>Canada</td></tr><tr><td>Vitachrome Inc.</td><td>2125551500</td><td>2678 Kingston Rd.</td><td>Suite 101</td><td>NYC</td><td>NY</td><td>10022</td><td>USA</td></tr><tr><td>La Corne D'abondance, Co.</td><td>(1) 42.34.2555</td><td>265, boulevard Charonne</td><td>nan</td><td>Paris</td><td>nan</td><td>75012</td><td>France</td></tr><tr><td>Corrida Auto Replicas, Ltd</td><td>(91) 555 22 82</td><td>C/ Araquil, 67</td><td>nan</td><td>Madrid</td><td>nan</td><td>28023</td><td>Spain</td></tr><tr><td>Toys4GrownUps.com</td><td>6265557265</td><td>78934 Hillside Dr.</td><td>nan</td><td>Pasadena</td><td>CA</td><td>90003</td><td>USA</td></tr><tr><td>Herkku Gifts</td><td>+47 2267 3215</td><td>Drammen 121, PR 744 Sentrum</td><td>nan</td><td>Bergen</td><td>nan</td><td>N 5804</td><td>Norway</td></tr><tr><td>Gift Depot Inc.</td><td>2035552570</td><td>25593 South Bay Ln.</td><td>nan</td><td>Bridgewater</td><td>CT</td><td>97562</td><td>USA</td></tr><tr><td>Marta's Replicas Co.</td><td>6175558555</td><td>39323 Spinnaker Dr.</td><td>nan</td><td>Cambridge</td><td>MA</td><td>51247</td><td>USA</td></tr><tr><td>Clover Collections, Co.</td><td>+353 1862 1555</td><td>25 Maiden Lane</td><td>Floor No. 4</td><td>Dublin</td><td>nan</td><td>2</td><td>Ireland</td></tr><tr><td>Diecast Classics Inc.</td><td>2155551555</td><td>7586 Pompton St.</td><td>nan</td><td>Allentown</td><td>PA</td><td>70267</td><td>USA</td></tr><tr><td>FunGiftIdeas.com</td><td>5085552555</td><td>1785 First Street</td><td>nan</td><td>New Bedford</td><td>MA</td><td>50553</td><td>USA</td></tr><tr><td>West Coast Collectables Co.</td><td>3105553722</td><td>3675 Furth Circle</td><td>nan</td><td>Burbank</td><td>CA</td><td>94019</td><td>USA</td></tr><tr><td>Australian Collectors, Co.</td><td>03 9520 4555</td><td>636 St Kilda Road</td><td>Level 3</td><td>Melbourne</td><td>Victoria</td><td>3004</td><td>Australia</td></tr><tr><td>Online Mini Collectables</td><td>6175557555</td><td>7635 Spinnaker Dr.</td><td>nan</td><td>Brickhaven</td><td>MA</td><td>58339</td><td>USA</td></tr><tr><td>Technics Stores Inc.</td><td>6505556809</td><td>9408 Furth Circle</td><td>nan</td><td>Burlingame</td><td>CA</td><td>94217</td><td>USA</td></tr><tr><td>Cruz & Sons Co.</td><td>+63 2 555 3587</td><td>15 McCallum Street - NatWest Center #13-03</td><td>nan</td><td>Makati City</td><td>nan</td><td>1227 MM</td><td>Philippines</td></tr><tr><td>Osaka Souveniers Co.</td><td>+81 06 6342 5555</td><td>Dojima Avanza 4F, 1-6-20 Dojima, Kita-ku</td><td>nan</td><td>Osaka</td><td>Osaka</td><td>530-0003</td><td>Japan</td></tr><tr><td>Norway Gifts By Mail, Co.</td><td>+47 2212 1555</td><td>Drammensveien 126 A, PB 744 Sentrum</td><td>nan</td><td>Oslo</td><td>nan</td><td>N 0106</td><td>Norway</td></tr><tr><td>Mini Classics</td><td>9145554562</td><td>3758 North Pendale Street</td><td>nan</td><td>White Plains</td><td>NY</td><td>24067</td><td>USA</td></tr><tr><td>Tekni Collectables Inc.</td><td>2015559350</td><td>7476 Moss Rd.</td><td>nan</td><td>Newark</td><td>NJ</td><td>94019</td><td>USA</td></tr><tr><td>L'ordine Souveniers</td><td>0522-556555</td><td>Strada Provinciale 124</td><td>nan</td><td>Reggio Emilia</td><td>nan</td><td>42100</td><td>Italy</td></tr><tr><td>Rovelli Gifts</td><td>035-640555</td><td>Via Ludovico il Moro 22</td><td>nan</td><td>Bergamo</td><td>nan</td><td>24100</td><td>Italy</td></tr><tr><td>Salzburg Collectables</td><td>6562-9555</td><td>Geislweg 14</td><td>nan</td><td>Salzburg</td><td>nan</td><td>5020</td><td>Austria</td></tr><tr><td>Gift Ideas Corp.</td><td>2035554407</td><td>2440 Pompton St.</td><td>nan</td><td>Glendale</td><td>CT</td><td>97561</td><td>USA</td></tr><tr><td>Toys of Finland, Co.</td><td>90-224 8555</td><td>Keskuskatu 45</td><td>nan</td><td>Helsinki</td><td>nan</td><td>21240</td><td>Finland</td></tr><tr><td>Double Decker Gift Stores, Ltd</td><td>(171) 555-7555</td><td>120 Hanover Sq.</td><td>nan</td><td>London</td><td>nan</td><td>WA1 1DP</td><td>UK</td></tr><tr><td>Men 'R' US Retailers, Ltd.</td><td>2155554369</td><td>6047 Douglas Av.</td><td>nan</td><td>Los Angeles</td><td>CA</td><td>nan</td><td>USA</td></tr><tr><td>Cambridge Collectables Co.</td><td>6175555555</td><td>4658 Baden Av.</td><td>nan</td><td>Cambridge</td><td>MA</td><td>51247</td><td>USA</td></tr><tr><td>Collectables For Less Inc.</td><td>6175558555</td><td>7825 Douglas Av.</td><td>nan</td><td>Brickhaven</td><td>MA</td><td>58339</td><td>USA</td></tr><tr><td>Bavarian Collectables Imports, Co.</td><td>+49 89 61 08 9555</td><td>Hansastr. 15</td><td>nan</td><td>Munich</td><td>nan</td><td>80686</td><td>Germany</td></tr><tr><td>Classic Gift Ideas, Inc</td><td>2155554695</td><td>782 First Street</td><td>nan</td><td>Philadelphia</td><td>PA</td><td>71270</td><td>USA</td></tr><tr><td>Tokyo Collectables, Ltd</td><td>+81 3 3584 0555</td><td>2-2-8 Roppongi</td><td>nan</td><td>Minato-ku</td><td>Tokyo</td><td>106-0032</td><td>Japan</td></tr><tr><td>Auto-Moto Classics Inc.</td><td>6175558428</td><td>16780 Pompton St.</td><td>nan</td><td>Brickhaven</td><td>MA</td><td>58339</td><td>USA</td></tr><tr><td>Souveniers And Things Co.</td><td>+61 2 9495 8555</td><td>Monitor Money Building, 815 Pacific Hwy</td><td>Level 6</td><td>Chatswood</td><td>NSW</td><td>2067</td><td>Australia</td></tr><tr><td>Reims Collectables</td><td>26.47.1555</td><td>59 rue de l'Abbaye</td><td>nan</td><td>Reims</td><td>nan</td><td>51100</td><td>France</td></tr><tr><td>The Sharp Gifts Warehouse</td><td>4085553659</td><td>3086 Ingle Ln.</td><td>nan</td><td>San Jose</td><td>CA</td><td>94217</td><td>USA</td></tr><tr><td>Australian Collectables, Ltd</td><td>61-9-3844-6555</td><td>7 Allen Street</td><td>nan</td><td>Glen Waverly</td><td>Victoria</td><td>3150</td><td>Australia</td></tr><tr><td>Dragon Souveniers, Ltd.</td><td>+65 221 7555</td><td>Bronz Sok., Bronz Apt. 3/6 Tesvikiye</td><td>nan</td><td>Singapore</td><td>nan</td><td>79903</td><td>Singapore</td></tr><tr><td>Stylish Desk Decors, Co.</td><td>(171) 555-0297</td><td>35 King George</td><td>nan</td><td>London</td><td>nan</td><td>WX3 6FW</td><td>UK</td></tr><tr><td>Mini Gifts Distributors Ltd.</td><td>4155551450</td><td>5677 Strong St.</td><td>nan</td><td>San Rafael</td><td>CA</td><td>97562</td><td>USA</td></tr><tr><td>Scandinavian Gift Ideas</td><td>0695-34 6555</td><td>?kergatan 24</td><td>nan</td><td>Boras</td><td>nan</td><td>S-844 67</td><td>Sweden</td></tr><tr><td>CAF Imports</td><td>+34 913 728 555</td><td>Merchants House, 27-30 Merchant's Quay</td><td>nan</td><td>Madrid</td><td>nan</td><td>28023</td><td>Spain</td></tr><tr><td>Mini Creations Ltd.</td><td>5085559555</td><td>4575 Hillside Dr.</td><td>nan</td><td>New Bedford</td><td>MA</td><td>50553</td><td>USA</td></tr><tr><td>Enaco Distributors</td><td>(93) 203 4555</td><td>Rambla de Catalu�a, 23</td><td>nan</td><td>Barcelona</td><td>nan</td><td>8022</td><td>Spain</td></tr><tr><td>Saveley & Henriot, Co.</td><td>78.32.5555</td><td>2, rue du Commerce</td><td>nan</td><td>Lyon</td><td>nan</td><td>69004</td><td>France</td></tr><tr><td>Collectable Mini Designs Co.</td><td>7605558146</td><td>361 Furth Circle</td><td>nan</td><td>San Diego</td><td>CA</td><td>91217</td><td>USA</td></tr><tr><td>giftsbymail.co.uk</td><td>(198) 555-8888</td><td>Garden House Crowther Way</td><td>nan</td><td>Cowes</td><td>Isle of Wight</td><td>PO31 7PJ</td><td>UK</td></tr><tr><td>Land of Toys Inc.</td><td>2125557818</td><td>897 Long Airport Avenue</td><td>nan</td><td>NYC</td><td>NY</td><td>10022</td><td>USA</td></tr><tr><td>Quebec Home Shopping Network</td><td>(514) 555-8054</td><td>43 rue St. Laurent</td><td>nan</td><td>Montreal</td><td>Quebec</td><td>H1J 1C3</td><td>Canada</td></tr><tr><td>Petit Auto</td><td>(02) 5554 67</td><td>Rue Joseph-Bens 532</td><td>nan</td><td>Bruxelles</td><td>nan</td><td>B-1180</td><td>Belgium</td></tr><tr><td>Royal Canadian Collectables, Ltd.</td><td>(604) 555-4555</td><td>23 Tsawassen Blvd.</td><td>nan</td><td>Tsawassen</td><td>BC</td><td>T2F 8M4</td><td>Canada</td></tr><tr><td>Amica Models & Co.</td><td>011-4988555</td><td>Via Monte Bianco 34</td><td>nan</td><td>Torino</td><td>nan</td><td>10100</td><td>Italy</td></tr><tr><td>AV Stores, Co.</td><td>(171) 555-1555</td><td>Fauntleroy Circus</td><td>nan</td><td>Manchester</td><td>nan</td><td>EC2 5NT</td><td>UK</td></tr><tr><td>La Rochelle Gifts</td><td>40.67.8555</td><td>67, rue des Cinquante Otages</td><td>nan</td><td>Nantes</td><td>nan</td><td>44000</td><td>France</td></tr><tr><td>Danish Wholesale Imports</td><td>31 12 3555</td><td>Vinb'ltet 34</td><td>nan</td><td>Kobenhavn</td><td>nan</td><td>1734</td><td>Denmark</td></tr><tr><td>Classic Legends Inc.</td><td>2125558493</td><td>5905 Pompton St.</td><td>Suite 750</td><td>NYC</td><td>NY</td><td>10022</td><td>USA</td></tr><tr><td>Oulu Toy Supplies, Inc.</td><td>981-443655</td><td>Torikatu 38</td><td>nan</td><td>Oulu</td><td>nan</td><td>90110</td><td>Finland</td></tr><tr><td>Euro Shopping Channel</td><td>(91) 555 94 44</td><td>C/ Moralzarzal, 86</td><td>nan</td><td>Madrid</td><td>nan</td><td>28034</td><td>Spain</td></tr><tr><td>Alpha Cognac</td><td>61.77.6555</td><td>1 rue Alsace-Lorraine</td><td>nan</td><td>Toulouse</td><td>nan</td><td>31000</td><td>France</td></tr><tr><td>Gifts4AllAges.com</td><td>6175559555</td><td>8616 Spinnaker Dr.</td><td>nan</td><td>Boston</td><td>MA</td><td>51003</td><td>USA</td></tr></tbody></table></div>"
      ]
     },
     "metadata": {
      "application/vnd.databricks.v1+output": {
       "addedWidgets": {},
       "aggData": [],
       "aggError": "",
       "aggOverflow": false,
       "aggSchema": [],
       "aggSeriesLimitReached": false,
       "aggType": "",
       "arguments": {},
       "columnCustomDisplayInfos": {},
       "data": [
        [
         "Atelier graphique",
         "40.32.2555",
         "54, rue Royale",
         "nan",
         "Nantes",
         "nan",
         "44000",
         "France"
        ],
        [
         "Mini Caravy",
         "88.60.1555",
         "24, place Kluber",
         "nan",
         "Strasbourg",
         "nan",
         "67000",
         "France"
        ],
        [
         "Online Diecast Creations Co.",
         "6035558647",
         "2304 Long Airport Avenue",
         "nan",
         "Nashua",
         "NH",
         "62005",
         "USA"
        ],
        [
         "Signal Gift Stores",
         "7025551838",
         "8489 Strong St.",
         "nan",
         "Las Vegas",
         "NV",
         "83030",
         "USA"
        ],
        [
         "Vida Sport, Ltd",
         "0897-034555",
         "Grenzacherweg 237",
         "nan",
         "Gensve",
         "nan",
         "1203",
         "Switzerland"
        ],
        [
         "Toms Spezialitten, Ltd",
         "0221-5554327",
         "Mehrheimerstr. 369",
         "nan",
         "Koln",
         "nan",
         "50739",
         "Germany"
        ],
        [
         "Marseille Mini Autos",
         "91.24.4555",
         "12, rue des Bouchers",
         "nan",
         "Marseille",
         "nan",
         "13008",
         "France"
        ],
        [
         "Signal Collectibles Ltd.",
         "4155554312",
         "2793 Furth Circle",
         "nan",
         "Brisbane",
         "CA",
         "94217",
         "USA"
        ],
        [
         "Australian Gift Network, Co",
         "61-7-3844-6555",
         "31 Duncan St. West End",
         "nan",
         "South Brisbane",
         "Queensland",
         "4101",
         "Australia"
        ],
        [
         "Mini Wheels Co.",
         "6505555787",
         "5557 North Pendale Street",
         "nan",
         "San Francisco",
         "CA",
         "nan",
         "USA"
        ],
        [
         "Royale Belge",
         "(071) 23 67 2555",
         "Boulevard Tirou, 255",
         "nan",
         "Charleroi",
         "nan",
         "B-6000",
         "Belgium"
        ],
        [
         "Iberia Gift Imports, Corp.",
         "(95) 555 82 82",
         "C/ Romero, 33",
         "nan",
         "Sevilla",
         "nan",
         "41101",
         "Spain"
        ],
        [
         "Diecast Collectables",
         "6175552555",
         "6251 Ingle Ln.",
         "nan",
         "Boston",
         "MA",
         "51003",
         "USA"
        ],
        [
         "Muscle Machine Inc",
         "2125557413",
         "4092 Furth Circle",
         "Suite 400",
         "NYC",
         "NY",
         "10022",
         "USA"
        ],
        [
         "Blauer See Auto, Co.",
         "+49 69 66 90 2555",
         "Lyonerstr. 34",
         "nan",
         "Frankfurt",
         "nan",
         "60528",
         "Germany"
        ],
        [
         "Suominen Souveniers",
         "+358 9 8045 555",
         "Software Engineering Center, SEC Oy",
         "nan",
         "Espoo",
         "nan",
         "FIN-02271",
         "Finland"
        ],
        [
         "Anna's Decorations, Ltd",
         "02 9936 8555",
         "201 Miller Street",
         "Level 15",
         "North Sydney",
         "NSW",
         "2060",
         "Australia"
        ],
        [
         "Daedalus Designs Imports",
         "20.16.1555",
         "184, chausse de Tournai",
         "nan",
         "Lille",
         "nan",
         "59000",
         "France"
        ],
        [
         "Auto Canal Petit",
         "(1) 47.55.6555",
         "25, rue Lauriston",
         "nan",
         "Paris",
         "nan",
         "75016",
         "France"
        ],
        [
         "Microscale Inc.",
         "2125551957",
         "5290 North Pendale Street",
         "Suite 200",
         "NYC",
         "NY",
         "10022",
         "USA"
        ],
        [
         "Motor Mint Distributors Inc.",
         "2155559857",
         "11328 Douglas Av.",
         "nan",
         "Philadelphia",
         "PA",
         "71270",
         "USA"
        ],
        [
         "Lyon Souveniers",
         "+33 1 46 62 7555",
         "27 rue du Colonel Pierre Avia",
         "nan",
         "Paris",
         "nan",
         "75508",
         "France"
        ],
        [
         "UK Collectables, Ltd.",
         "(171) 555-2282",
         "Berkeley Gardens 12  Brewery",
         "nan",
         "Liverpool",
         "nan",
         "WX1 6LT",
         "UK"
        ],
        [
         "Volvo Model Replicas, Co",
         "0921-12 3555",
         "Berguvsv�gen  8",
         "nan",
         "Lule",
         "nan",
         "S-958 22",
         "Sweden"
        ],
        [
         "Heintze Collectables",
         "86 21 3555",
         "Smagsloget 45",
         "nan",
         "Aaarhus",
         "nan",
         "8200",
         "Denmark"
        ],
        [
         "Corporate Gift Ideas Co.",
         "6505551386",
         "7734 Strong St.",
         "nan",
         "San Francisco",
         "CA",
         "nan",
         "USA"
        ],
        [
         "Boards & Toys Co.",
         "3105552373",
         "4097 Douglas Av.",
         "nan",
         "Glendale",
         "CA",
         "92561",
         "USA"
        ],
        [
         "Baane Mini Imports",
         "07-98 9555",
         "Erling Skakkes gate 78",
         "nan",
         "Stavern",
         "nan",
         "4110",
         "Norway"
        ],
        [
         "Mini Auto Werke",
         "7675-3555",
         "Kirchgasse 6",
         "nan",
         "Graz",
         "nan",
         "8010",
         "Austria"
        ],
        [
         "Handji Gifts& Co",
         "+65 224 1555",
         "Village Close - 106 Linden Road Sandown",
         "2nd Floor",
         "Singapore",
         "nan",
         "69045",
         "Singapore"
        ],
        [
         "Super Scale Inc.",
         "2035559545",
         "567 North Pendale Street",
         "nan",
         "New Haven",
         "CT",
         "97823",
         "USA"
        ],
        [
         "Auto Assoc. & Cie.",
         "30.59.8555",
         "67, avenue de l'Europe",
         "nan",
         "Versailles",
         "nan",
         "78000",
         "France"
        ],
        [
         "Canadian Gift Exchange Network",
         "(604) 555-3392",
         "1900 Oak St.",
         "nan",
         "Vancouver",
         "BC",
         "V3F 2K1",
         "Canada"
        ],
        [
         "Vitachrome Inc.",
         "2125551500",
         "2678 Kingston Rd.",
         "Suite 101",
         "NYC",
         "NY",
         "10022",
         "USA"
        ],
        [
         "La Corne D'abondance, Co.",
         "(1) 42.34.2555",
         "265, boulevard Charonne",
         "nan",
         "Paris",
         "nan",
         "75012",
         "France"
        ],
        [
         "Corrida Auto Replicas, Ltd",
         "(91) 555 22 82",
         "C/ Araquil, 67",
         "nan",
         "Madrid",
         "nan",
         "28023",
         "Spain"
        ],
        [
         "Toys4GrownUps.com",
         "6265557265",
         "78934 Hillside Dr.",
         "nan",
         "Pasadena",
         "CA",
         "90003",
         "USA"
        ],
        [
         "Herkku Gifts",
         "+47 2267 3215",
         "Drammen 121, PR 744 Sentrum",
         "nan",
         "Bergen",
         "nan",
         "N 5804",
         "Norway"
        ],
        [
         "Gift Depot Inc.",
         "2035552570",
         "25593 South Bay Ln.",
         "nan",
         "Bridgewater",
         "CT",
         "97562",
         "USA"
        ],
        [
         "Marta's Replicas Co.",
         "6175558555",
         "39323 Spinnaker Dr.",
         "nan",
         "Cambridge",
         "MA",
         "51247",
         "USA"
        ],
        [
         "Clover Collections, Co.",
         "+353 1862 1555",
         "25 Maiden Lane",
         "Floor No. 4",
         "Dublin",
         "nan",
         "2",
         "Ireland"
        ],
        [
         "Diecast Classics Inc.",
         "2155551555",
         "7586 Pompton St.",
         "nan",
         "Allentown",
         "PA",
         "70267",
         "USA"
        ],
        [
         "FunGiftIdeas.com",
         "5085552555",
         "1785 First Street",
         "nan",
         "New Bedford",
         "MA",
         "50553",
         "USA"
        ],
        [
         "West Coast Collectables Co.",
         "3105553722",
         "3675 Furth Circle",
         "nan",
         "Burbank",
         "CA",
         "94019",
         "USA"
        ],
        [
         "Australian Collectors, Co.",
         "03 9520 4555",
         "636 St Kilda Road",
         "Level 3",
         "Melbourne",
         "Victoria",
         "3004",
         "Australia"
        ],
        [
         "Online Mini Collectables",
         "6175557555",
         "7635 Spinnaker Dr.",
         "nan",
         "Brickhaven",
         "MA",
         "58339",
         "USA"
        ],
        [
         "Technics Stores Inc.",
         "6505556809",
         "9408 Furth Circle",
         "nan",
         "Burlingame",
         "CA",
         "94217",
         "USA"
        ],
        [
         "Cruz & Sons Co.",
         "+63 2 555 3587",
         "15 McCallum Street - NatWest Center #13-03",
         "nan",
         "Makati City",
         "nan",
         "1227 MM",
         "Philippines"
        ],
        [
         "Osaka Souveniers Co.",
         "+81 06 6342 5555",
         "Dojima Avanza 4F, 1-6-20 Dojima, Kita-ku",
         "nan",
         "Osaka",
         "Osaka",
         "530-0003",
         "Japan"
        ],
        [
         "Norway Gifts By Mail, Co.",
         "+47 2212 1555",
         "Drammensveien 126 A, PB 744 Sentrum",
         "nan",
         "Oslo",
         "nan",
         "N 0106",
         "Norway"
        ],
        [
         "Mini Classics",
         "9145554562",
         "3758 North Pendale Street",
         "nan",
         "White Plains",
         "NY",
         "24067",
         "USA"
        ],
        [
         "Tekni Collectables Inc.",
         "2015559350",
         "7476 Moss Rd.",
         "nan",
         "Newark",
         "NJ",
         "94019",
         "USA"
        ],
        [
         "L'ordine Souveniers",
         "0522-556555",
         "Strada Provinciale 124",
         "nan",
         "Reggio Emilia",
         "nan",
         "42100",
         "Italy"
        ],
        [
         "Rovelli Gifts",
         "035-640555",
         "Via Ludovico il Moro 22",
         "nan",
         "Bergamo",
         "nan",
         "24100",
         "Italy"
        ],
        [
         "Salzburg Collectables",
         "6562-9555",
         "Geislweg 14",
         "nan",
         "Salzburg",
         "nan",
         "5020",
         "Austria"
        ],
        [
         "Gift Ideas Corp.",
         "2035554407",
         "2440 Pompton St.",
         "nan",
         "Glendale",
         "CT",
         "97561",
         "USA"
        ],
        [
         "Toys of Finland, Co.",
         "90-224 8555",
         "Keskuskatu 45",
         "nan",
         "Helsinki",
         "nan",
         "21240",
         "Finland"
        ],
        [
         "Double Decker Gift Stores, Ltd",
         "(171) 555-7555",
         "120 Hanover Sq.",
         "nan",
         "London",
         "nan",
         "WA1 1DP",
         "UK"
        ],
        [
         "Men 'R' US Retailers, Ltd.",
         "2155554369",
         "6047 Douglas Av.",
         "nan",
         "Los Angeles",
         "CA",
         "nan",
         "USA"
        ],
        [
         "Cambridge Collectables Co.",
         "6175555555",
         "4658 Baden Av.",
         "nan",
         "Cambridge",
         "MA",
         "51247",
         "USA"
        ],
        [
         "Collectables For Less Inc.",
         "6175558555",
         "7825 Douglas Av.",
         "nan",
         "Brickhaven",
         "MA",
         "58339",
         "USA"
        ],
        [
         "Bavarian Collectables Imports, Co.",
         "+49 89 61 08 9555",
         "Hansastr. 15",
         "nan",
         "Munich",
         "nan",
         "80686",
         "Germany"
        ],
        [
         "Classic Gift Ideas, Inc",
         "2155554695",
         "782 First Street",
         "nan",
         "Philadelphia",
         "PA",
         "71270",
         "USA"
        ],
        [
         "Tokyo Collectables, Ltd",
         "+81 3 3584 0555",
         "2-2-8 Roppongi",
         "nan",
         "Minato-ku",
         "Tokyo",
         "106-0032",
         "Japan"
        ],
        [
         "Auto-Moto Classics Inc.",
         "6175558428",
         "16780 Pompton St.",
         "nan",
         "Brickhaven",
         "MA",
         "58339",
         "USA"
        ],
        [
         "Souveniers And Things Co.",
         "+61 2 9495 8555",
         "Monitor Money Building, 815 Pacific Hwy",
         "Level 6",
         "Chatswood",
         "NSW",
         "2067",
         "Australia"
        ],
        [
         "Reims Collectables",
         "26.47.1555",
         "59 rue de l'Abbaye",
         "nan",
         "Reims",
         "nan",
         "51100",
         "France"
        ],
        [
         "The Sharp Gifts Warehouse",
         "4085553659",
         "3086 Ingle Ln.",
         "nan",
         "San Jose",
         "CA",
         "94217",
         "USA"
        ],
        [
         "Australian Collectables, Ltd",
         "61-9-3844-6555",
         "7 Allen Street",
         "nan",
         "Glen Waverly",
         "Victoria",
         "3150",
         "Australia"
        ],
        [
         "Dragon Souveniers, Ltd.",
         "+65 221 7555",
         "Bronz Sok., Bronz Apt. 3/6 Tesvikiye",
         "nan",
         "Singapore",
         "nan",
         "79903",
         "Singapore"
        ],
        [
         "Stylish Desk Decors, Co.",
         "(171) 555-0297",
         "35 King George",
         "nan",
         "London",
         "nan",
         "WX3 6FW",
         "UK"
        ],
        [
         "Mini Gifts Distributors Ltd.",
         "4155551450",
         "5677 Strong St.",
         "nan",
         "San Rafael",
         "CA",
         "97562",
         "USA"
        ],
        [
         "Scandinavian Gift Ideas",
         "0695-34 6555",
         "?kergatan 24",
         "nan",
         "Boras",
         "nan",
         "S-844 67",
         "Sweden"
        ],
        [
         "CAF Imports",
         "+34 913 728 555",
         "Merchants House, 27-30 Merchant's Quay",
         "nan",
         "Madrid",
         "nan",
         "28023",
         "Spain"
        ],
        [
         "Mini Creations Ltd.",
         "5085559555",
         "4575 Hillside Dr.",
         "nan",
         "New Bedford",
         "MA",
         "50553",
         "USA"
        ],
        [
         "Enaco Distributors",
         "(93) 203 4555",
         "Rambla de Catalu�a, 23",
         "nan",
         "Barcelona",
         "nan",
         "8022",
         "Spain"
        ],
        [
         "Saveley & Henriot, Co.",
         "78.32.5555",
         "2, rue du Commerce",
         "nan",
         "Lyon",
         "nan",
         "69004",
         "France"
        ],
        [
         "Collectable Mini Designs Co.",
         "7605558146",
         "361 Furth Circle",
         "nan",
         "San Diego",
         "CA",
         "91217",
         "USA"
        ],
        [
         "giftsbymail.co.uk",
         "(198) 555-8888",
         "Garden House Crowther Way",
         "nan",
         "Cowes",
         "Isle of Wight",
         "PO31 7PJ",
         "UK"
        ],
        [
         "Land of Toys Inc.",
         "2125557818",
         "897 Long Airport Avenue",
         "nan",
         "NYC",
         "NY",
         "10022",
         "USA"
        ],
        [
         "Quebec Home Shopping Network",
         "(514) 555-8054",
         "43 rue St. Laurent",
         "nan",
         "Montreal",
         "Quebec",
         "H1J 1C3",
         "Canada"
        ],
        [
         "Petit Auto",
         "(02) 5554 67",
         "Rue Joseph-Bens 532",
         "nan",
         "Bruxelles",
         "nan",
         "B-1180",
         "Belgium"
        ],
        [
         "Royal Canadian Collectables, Ltd.",
         "(604) 555-4555",
         "23 Tsawassen Blvd.",
         "nan",
         "Tsawassen",
         "BC",
         "T2F 8M4",
         "Canada"
        ],
        [
         "Amica Models & Co.",
         "011-4988555",
         "Via Monte Bianco 34",
         "nan",
         "Torino",
         "nan",
         "10100",
         "Italy"
        ],
        [
         "AV Stores, Co.",
         "(171) 555-1555",
         "Fauntleroy Circus",
         "nan",
         "Manchester",
         "nan",
         "EC2 5NT",
         "UK"
        ],
        [
         "La Rochelle Gifts",
         "40.67.8555",
         "67, rue des Cinquante Otages",
         "nan",
         "Nantes",
         "nan",
         "44000",
         "France"
        ],
        [
         "Danish Wholesale Imports",
         "31 12 3555",
         "Vinb'ltet 34",
         "nan",
         "Kobenhavn",
         "nan",
         "1734",
         "Denmark"
        ],
        [
         "Classic Legends Inc.",
         "2125558493",
         "5905 Pompton St.",
         "Suite 750",
         "NYC",
         "NY",
         "10022",
         "USA"
        ],
        [
         "Oulu Toy Supplies, Inc.",
         "981-443655",
         "Torikatu 38",
         "nan",
         "Oulu",
         "nan",
         "90110",
         "Finland"
        ],
        [
         "Euro Shopping Channel",
         "(91) 555 94 44",
         "C/ Moralzarzal, 86",
         "nan",
         "Madrid",
         "nan",
         "28034",
         "Spain"
        ],
        [
         "Alpha Cognac",
         "61.77.6555",
         "1 rue Alsace-Lorraine",
         "nan",
         "Toulouse",
         "nan",
         "31000",
         "France"
        ],
        [
         "Gifts4AllAges.com",
         "6175559555",
         "8616 Spinnaker Dr.",
         "nan",
         "Boston",
         "MA",
         "51003",
         "USA"
        ]
       ],
       "datasetInfos": [],
       "dbfsResultPath": null,
       "isJsonSchema": true,
       "metadata": {},
       "overflow": false,
       "plotOptions": {
        "customPlotOptions": {},
        "displayType": "table",
        "pivotAggregation": null,
        "pivotColumns": null,
        "xColumns": null,
        "yColumns": null
       },
       "removedWidgets": [],
       "schema": [
        {
         "metadata": "{}",
         "name": "CUSTOMERNAME",
         "type": "\"string\""
        },
        {
         "metadata": "{}",
         "name": "PHONE",
         "type": "\"string\""
        },
        {
         "metadata": "{}",
         "name": "ADDRESSLINE1",
         "type": "\"string\""
        },
        {
         "metadata": "{}",
         "name": "ADDRESSLINE2",
         "type": "\"string\""
        },
        {
         "metadata": "{}",
         "name": "CITY",
         "type": "\"string\""
        },
        {
         "metadata": "{}",
         "name": "STATE",
         "type": "\"string\""
        },
        {
         "metadata": "{}",
         "name": "POSTALCODE",
         "type": "\"string\""
        },
        {
         "metadata": "{}",
         "name": "COUNTRY",
         "type": "\"string\""
        }
       ],
       "type": "table"
      }
     },
     "output_type": "display_data"
    }
   ],
   "source": [
    "# 3) Prints the contents of the dataframe\n",
    "\n",
    "display(df)"
   ]
  },
  {
   "cell_type": "code",
   "execution_count": null,
   "metadata": {
    "application/vnd.databricks.v1+cell": {
     "cellMetadata": {
      "byteLimit": 2048000,
      "rowLimit": 10000
     },
     "inputWidgets": {},
     "nuid": "5cbd5b72-585d-4a30-913b-857e20105d2a",
     "showTitle": false,
     "title": ""
    }
   },
   "outputs": [
    {
     "name": "stdout",
     "output_type": "stream",
     "text": [
      "\n"
     ]
    }
   ],
   "source": [
    "# 4) Dbutils widget created to get the folder path to save the parquet file in the data lake. A value can be passed as a parameter for this widget.\n",
    "\n",
    "# path - dimension/customer\n",
    "dbutils.widgets.text('path', '')\n",
    "path = dbutils.widgets.get('path')\n",
    "print(path)"
   ]
  },
  {
   "cell_type": "code",
   "execution_count": null,
   "metadata": {
    "application/vnd.databricks.v1+cell": {
     "cellMetadata": {
      "byteLimit": 2048000,
      "rowLimit": 10000
     },
     "inputWidgets": {},
     "nuid": "1817a5d4-fb74-4adc-a879-cb9faedd9626",
     "showTitle": false,
     "title": ""
    }
   },
   "outputs": [],
   "source": [
    "# 5) Writes the dataframe in parquet format to the data lake\n",
    "\n",
    "# Access key used to connect to the data lake\n",
    "# This value is saved in the Azure key vault\n",
    "str_key = dbutils.secrets.get(scope = 'Key-Vault-Secret', key = 'Data-Lake')\n",
    "\n",
    "spark.conf.set(\n",
    "  'fs.azure.account.key.heshtestdwhstorage.dfs.core.windows.net',\n",
    "  str_key\n",
    ")\n",
    "\n",
    "# Data lake folder path where we want to write the parquet file\n",
    "target_folder_path = 'abfss://data-lake@heshtestdwhstorage.dfs.core.windows.net/' + path\n",
    "\n",
    "df.coalesce(1).write.mode('overwrite').option('header','false').parquet(target_folder_path)"
   ]
  }
 ],
 "metadata": {
  "application/vnd.databricks.v1+notebook": {
   "dashboards": [],
   "language": "python",
   "notebookMetadata": {
    "pythonIndentUnit": 4
   },
   "notebookName": "DimCustomer",
   "widgets": {
    "path": {
     "currentValue": "",
     "nuid": "c0e07a63-6a26-4425-b099-e53b2a93eab2",
     "widgetInfo": {
      "defaultValue": "",
      "label": null,
      "name": "path",
      "options": {
       "validationRegex": null,
       "widgetType": "text"
      },
      "widgetType": "text"
     }
    }
   }
  },
  "language_info": {
   "name": "python"
  }
 },
 "nbformat": 4,
 "nbformat_minor": 0
}
